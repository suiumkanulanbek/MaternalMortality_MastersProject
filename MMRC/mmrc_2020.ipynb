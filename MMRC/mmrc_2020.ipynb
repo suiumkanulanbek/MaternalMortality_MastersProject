{
 "cells": [
  {
   "cell_type": "code",
   "execution_count": 1,
   "id": "fada6fa5-37bc-4588-8800-036517031420",
   "metadata": {},
   "outputs": [
    {
     "name": "stdout",
     "output_type": "stream",
     "text": [
      "✅ Saved div1_table1.csv\n",
      "✅ Saved div1_table2.csv\n",
      "✅ Saved div2_table1.csv\n",
      "✅ Saved div2_table2.csv\n",
      "✅ Saved div3_table1.csv\n",
      "✅ Saved div3_table2.csv\n",
      "✅ Saved div4_table1.csv\n",
      "✅ Saved div4_table2.csv\n",
      "✅ Saved div5_table1.csv\n",
      "✅ Saved div5_table2.csv\n",
      "✅ Saved div6_table1.csv\n",
      "✅ Saved div6_table2.csv\n"
     ]
    }
   ],
   "source": [
    "import requests\n",
    "from bs4 import BeautifulSoup\n",
    "import pandas as pd\n",
    "\n",
    "# Step 1: Load the page\n",
    "url = 'https://www.cdc.gov/maternal-mortality/php/data-research/index.html'  # Replace with the actual URL\n",
    "response = requests.get(url)\n",
    "soup = BeautifulSoup(response.content, 'html.parser')\n",
    "\n",
    "# Step 2: Find all matching divs with the correct class\n",
    "target_divs = soup.find_all('div', class_='dfe-block dfe-block--cdcmodule cdc_raw_html')\n",
    "\n",
    "# Step 3: Loop through each matching div and extract tables\n",
    "for div_index, div in enumerate(target_divs):\n",
    "    inner_html = BeautifulSoup(div.decode_contents(), 'html.parser')\n",
    "    tables = inner_html.find_all('table')\n",
    "\n",
    "    for i, table in enumerate(tables):\n",
    "        rows = table.find_all('tr')\n",
    "        data = [[cell.get_text(strip=True) for cell in row.find_all(['td', 'th'])] for row in rows]\n",
    "\n",
    "        # Save only if there's data\n",
    "        if data:\n",
    "            df = pd.DataFrame(data)\n",
    "            df.columns = df.iloc[0]  # First row as header\n",
    "            df = df.drop(0).reset_index(drop=True)\n",
    "            filename = f\"div{div_index+1}_table{i+1}.csv\"\n",
    "            df.to_csv(filename, index=False)\n",
    "            print(f\"✅ Saved {filename}\")\n",
    "        else:\n",
    "            print(f\"⚠️ Skipped empty table {i+1} in div {div_index+1}\")\n"
   ]
  },
  {
   "cell_type": "code",
   "execution_count": null,
   "id": "48ed16d8-57e7-455c-8503-c084c9cb570c",
   "metadata": {},
   "outputs": [],
   "source": []
  }
 ],
 "metadata": {
  "kernelspec": {
   "display_name": "Python 3 (ipykernel)",
   "language": "python",
   "name": "python3"
  },
  "language_info": {
   "codemirror_mode": {
    "name": "ipython",
    "version": 3
   },
   "file_extension": ".py",
   "mimetype": "text/x-python",
   "name": "python",
   "nbconvert_exporter": "python",
   "pygments_lexer": "ipython3",
   "version": "3.11.8"
  }
 },
 "nbformat": 4,
 "nbformat_minor": 5
}
